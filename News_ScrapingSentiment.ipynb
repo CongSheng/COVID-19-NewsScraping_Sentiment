{
  "nbformat": 4,
  "nbformat_minor": 0,
  "metadata": {
    "colab": {
      "name": "News_ScrapingSentiment.ipynb",
      "provenance": [],
      "collapsed_sections": []
    },
    "kernelspec": {
      "name": "python3",
      "display_name": "Python 3"
    }
  },
  "cells": [
    {
      "cell_type": "markdown",
      "metadata": {
        "id": "75NvAtfDo-VM",
        "colab_type": "text"
      },
      "source": [
        "# Importing nltk library and initialising SentimentIntensityAnalyzer"
      ]
    },
    {
      "cell_type": "code",
      "metadata": {
        "id": "enLB_ICTVS8K",
        "colab_type": "code",
        "colab": {
          "base_uri": "https://localhost:8080/",
          "height": 70
        },
        "outputId": "e0e7bc99-d45b-4319-c3b5-6b368fbd872e"
      },
      "source": [
        "# Importing Libraries\n",
        "# Natural Language Toolkit - nltk\n",
        "import nltk\n",
        "from nltk.sentiment.vader import SentimentIntensityAnalyzer\n",
        "# Importing libraries to open urls and scrape for data\n",
        "from urllib.request import urlopen\n",
        "from bs4 import BeautifulSoup\n",
        "from datetime import datetime, timedelta\n",
        "import time\n",
        "import pprint"
      ],
      "execution_count": 1,
      "outputs": [
        {
          "output_type": "stream",
          "text": [
            "/usr/local/lib/python3.6/dist-packages/nltk/twitter/__init__.py:20: UserWarning: The twython library has not been installed. Some functionality from the twitter package will not be available.\n",
            "  warnings.warn(\"The twython library has not been installed. \"\n"
          ],
          "name": "stderr"
        }
      ]
    },
    {
      "cell_type": "code",
      "metadata": {
        "id": "FdziimctelBj",
        "colab_type": "code",
        "outputId": "f48eda22-5ae2-4ef9-c0b5-26978573bbe3",
        "colab": {
          "base_uri": "https://localhost:8080/",
          "height": 50
        }
      },
      "source": [
        "nltk.download('vader_lexicon')\n",
        "sentimentA = SentimentIntensityAnalyzer()\n"
      ],
      "execution_count": 2,
      "outputs": [
        {
          "output_type": "stream",
          "text": [
            "[nltk_data] Downloading package vader_lexicon to /root/nltk_data...\n",
            "[nltk_data]   Package vader_lexicon is already up-to-date!\n"
          ],
          "name": "stdout"
        }
      ]
    },
    {
      "cell_type": "markdown",
      "metadata": {
        "id": "0Crp8vGlpVdO",
        "colab_type": "text"
      },
      "source": [
        "## Input page for scraping and extract urls based on developer mode on Web"
      ]
    },
    {
      "cell_type": "code",
      "metadata": {
        "id": "BYdmtX6UfRGL",
        "colab_type": "code",
        "colab": {}
      },
      "source": [
        "page = urlopen('https://www.straitstimes.com/coronavirus').read()\n",
        "soup = BeautifulSoup(page, features=\"html.parser\")\n",
        "posts = soup.findAll(\"div\", {\"class\": \"media-body\"})"
      ],
      "execution_count": 0,
      "outputs": []
    },
    {
      "cell_type": "code",
      "metadata": {
        "id": "yDw5HmY-hOTn",
        "colab_type": "code",
        "colab": {}
      },
      "source": [
        "# posts"
      ],
      "execution_count": 0,
      "outputs": []
    },
    {
      "cell_type": "markdown",
      "metadata": {
        "id": "a6vGo9FHpiug",
        "colab_type": "text"
      },
      "source": [
        "# Scraping + Sentiment Extraction"
      ]
    },
    {
      "cell_type": "code",
      "metadata": {
        "id": "sgiqvRdhha7F",
        "colab_type": "code",
        "outputId": "b27be504-5c1e-452d-e080-70a06cf9cfd2",
        "colab": {
          "base_uri": "https://localhost:8080/",
          "height": 877
        }
      },
      "source": [
        "sentimentScraped = []\n",
        "\n",
        "for post in posts:\n",
        "  url = post.a['href']\n",
        "  if \"javascript\" in url: # Removing interactive and videos\n",
        "    continue\n",
        "  url = 'https://www.straitstimes.com' + url\n",
        "  print(url)\n",
        "  try:\n",
        "      pageLink = urlopen(url).read()\n",
        "  except:\n",
        "      url = url[:-2]\n",
        "      pageLink = urlopen(url).read()\n",
        "  soupLink = BeautifulSoup(pageLink)\n",
        "  sentences = soupLink.findAll(\"p\")\n",
        "  passage = \"\"\n",
        "  for sentence in sentences:\n",
        "      passage += sentence.text\n",
        "  sentiment = sentimentA.polarity_scores(passage)['compound']\n",
        "  sentimentScraped.append(sentiment)\n",
        "\n",
        "print(sentimentScraped)"
      ],
      "execution_count": 5,
      "outputs": [
        {
          "output_type": "stream",
          "text": [
            "https://www.straitstimes.com/world/united-states/what-are-antibody-therapies-and-who-is-developing-them-for-covid-19\n",
            "https://www.straitstimes.com/world/united-states/coronavirus-when-511-epidemiologists-expect-to-fly-hug-and-do-18-other-everyday\n",
            "https://www.straitstimes.com/singapore/every-singaporean-who-needs-a-covid-19-vaccine-will-get-one-when-it-becomes-available\n",
            "https://www.straitstimes.com/lifestyle/stayhome-guide-for-wednesday-explore-st-podcasts-make-tasty-oxtail-stew-and-more\n",
            "https://www.straitstimes.com/singapore/health/451-new-covid-19-cases-in-singapore-including-7-in-community\n",
            "https://www.straitstimes.com/singapore/health/the-race-for-covid-19-vaccine-should-not-be-seen-as-competition-british-pharma\n",
            "https://www.straitstimes.com/singapore/remdesivir-approved-for-covid-19-treatment-in-singapore\n",
            "https://www.straitstimes.com/singapore/singapore-to-start-clinical-trials-for-potential-covid-19-treatment\n",
            "https://www.straitstimes.com/world/united-states/the-who-stumbles-and-some-scientists-see-a-pattern\n",
            "https://www.straitstimes.com/asia/se-asia/thailand-to-consider-reopening-more-businesses-as-virus-appears-contained\n",
            "https://www.straitstimes.com/asia/se-asia/indonesia-resumes-domestic-air-travel-coronavirus-cases-jump\n",
            "https://www.straitstimes.com/world/europe/germany-to-extend-coronavirus-related-travel-ban-for-non-european-countries\n",
            "https://www.straitstimes.com/world/europe/britain-says-retailers-can-reopen-on-june-15-with-coronavirus-guidelines-in-place\n",
            "https://www.straitstimes.com/asia/asias-search-for-a-covid-19-vaccine\n",
            "https://www.straitstimes.com/singapore/health/the-race-for-covid-19-vaccine-should-not-be-seen-as-competition-british-pharma\n",
            "https://www.straitstimes.com/singapore/every-singaporean-who-needs-a-covid-19-vaccine-will-get-one-when-it-becomes-available\n",
            "https://www.straitstimes.com/singapore/health/singapore-building-its-vaccine-manufacturing-capacity-in-covid-19-fight-says-pm-lee\n",
            "https://www.straitstimes.com/asia/se-asia/malaysian-police-brace-for-surge-in-traffic-as-malaysia-lifts-ban-on-interstate-travel\n",
            "https://www.straitstimes.com/asia/se-asia/indonesias-unicorns-start-ups-join-forces-to-produce-coronavirus-test-kits-locally\n",
            "https://www.straitstimes.com/asia/se-asia/coronavirus-thais-travelling-domestically-in-droves-amid-lockdown-easing-prompting\n",
            "https://www.straitstimes.com/asia/south-asia/south-asia-coronavirus-cases-rise-at-fastest-rate-across-the-globe\n",
            "https://www.straitstimes.com/singapore/health/swab-test-generally-painless-but-there-might-be-some-discomfort\n",
            "https://www.straitstimes.com/singapore/askst-how-new-token-and-app-will-address-privacy-concerns\n",
            "https://www.straitstimes.com/askst/collection-of-ics-passports-by-appointment-only\n",
            "https://www.straitstimes.com/singapore/free-one-time-replacement-if-mask-becomes-discoloured\n",
            "https://www.straitstimes.com/singapore/singapore-ends-covid-19-circuit-breaker-how-does-it-affect-you-from-june-2\n",
            "https://www.straitstimes.com/business/companies-markets/askst-what-you-need-to-know-about-payouts-under-the-jobs-support-scheme\n",
            "https://www.straitstimes.com/lifestyle/covid-19-and-hypertension-what-are-the-links-and-risks\n",
            "https://www.straitstimes.com/singapore/only-members-from-same-household-can-pray-together-in-place-of-worship\n",
            "https://www.straitstimes.com/singapore/health/at-102-she-fought-and-beat-covid-19\n",
            "https://www.straitstimes.com/singapore/my-body-was-a-wreck-says-covid-19-patient\n",
            "https://www.straitstimes.com/singapore/parents-of-newborn-both-had-covid-19\n",
            "https://www.straitstimes.com/singapore/a-dinner-where-death-lurked\n",
            "https://www.straitstimes.com\n",
            "https://www.straitstimes.com/singapore/fresh-pastures-in-the-covid-19-economy\n",
            "https://www.straitstimes.com/singapore/families-scraping-by-in-tougher-spot-now\n",
            "https://www.straitstimes.com/singapore/health/pulling-out-all-the-stops-to-save-lives-and-the-economy\n",
            "https://www.straitstimes.com/asia/caught-in-the-middle-of-a-new-us-china-cold-war\n",
            "https://www.straitstimes.com/singapore/thescience-medical-tech-investmentspay-off-in-covid-19-war\n",
            "https://www.straitstimes.com/singapore/repeat-test-of-6-infected-students-staff-for-covid-19-finds-all-negative-have-recovered\n",
            "https://www.straitstimes.com/asia/se-asia/indonesia-posts-record-coronavirus-infections-as-restrictions-eased\n",
            "https://www.straitstimes.com/singapore/manpower/over-19000-traineeships-in-2800-companies-available-for-graduates\n",
            "https://www.straitstimes.com/world/europe/boris-johnson-defends-uks-astonishing-coronavirus-effort\n",
            "https://www.straitstimes.com/asia/south-asia/coronavirus-hospitals-overwhelmed-in-delhi-and-other-major-indian-cities\n",
            "https://www.straitstimes.com/sport/football/football-fifa-to-choose-from-three-bids-for-2023-womens-world-cup-at-meeting-in-two\n",
            "https://www.straitstimes.com/sport/tennis/tennis-coronavirus-shutdown-may-help-serena-williams-grand-slam-quest-says-coach\n",
            "https://www.straitstimes.com/business/banking/ubs-commits-to-creating-300-jobs-under-new-18-month-training-scheme-to-build\n",
            "https://www.straitstimes.com/singapore/health/the-race-for-covid-19-vaccine-should-not-be-seen-as-competition-british-pharma\n",
            "https://www.straitstimes.com/singapore/uob-kay-hian-donates-600000-to-st-school-pocket-money-fund\n",
            "[0.9498, -0.9873, 0.9774, 0.9726, 0.4019, 0.9894, 0.9881, 0.9925, 0.6972, -0.0202, 0.9377, -0.743, 0.9468, -0.9299, 0.9894, 0.9774, 0.9846, 0.9884, -0.5859, 0.9331, -0.8223, 0.9943, 0.9778, 0.9253, 0.9702, 0.9949, 0.9818, -0.9776, 0.9834, -0.9622, 0.9845, -0.9931, 0.9938, -0.296, 0.997, -0.971, 0.9959, 0.9602, 0.9984, 0.9442, 0.6549, 0.9803, -0.9706, -0.7475, -0.33, 0.9972, 0.9923, 0.9894, 0.9744]\n"
          ],
          "name": "stdout"
        }
      ]
    },
    {
      "cell_type": "markdown",
      "metadata": {
        "id": "DOFHds_xoa9H",
        "colab_type": "text"
      },
      "source": [
        "## Checking the url and passage"
      ]
    },
    {
      "cell_type": "code",
      "metadata": {
        "id": "M6eC8cLmncK3",
        "colab_type": "code",
        "outputId": "6aea82d0-bcfc-4502-85d2-f6a4f08215de",
        "colab": {
          "base_uri": "https://localhost:8080/",
          "height": 34
        }
      },
      "source": [
        "url"
      ],
      "execution_count": 6,
      "outputs": [
        {
          "output_type": "execute_result",
          "data": {
            "text/plain": [
              "'https://www.straitstimes.com/singapore/uob-kay-hian-donates-600000-to-st-school-pocket-money-fund'"
            ]
          },
          "metadata": {
            "tags": []
          },
          "execution_count": 6
        }
      ]
    },
    {
      "cell_type": "code",
      "metadata": {
        "id": "Vy5_NETpntx1",
        "colab_type": "code",
        "outputId": "61cefd64-661b-4f59-b2ff-384e940fcd10",
        "colab": {
          "base_uri": "https://localhost:8080/",
          "height": 54
        }
      },
      "source": [
        "passage"
      ],
      "execution_count": 7,
      "outputs": [
        {
          "output_type": "execute_result",
          "data": {
            "text/plain": [
              "'SINGAPORE - Stock brokerage company UOB Kay Hian will be donating a total of $600,000 to The Straits Times School Pocket Money Fund (STSPMF).The financial group had intended to commemorate its 50th anniversary this year with a grand celebration - but those plans were upended by the Covid-19 pandemic.Instead, the management felt that the funds initially set aside for the celebration could be more meaningfully deployed to help segments of the community that are most affected by the pandemic and are in urgent need of financial assistance.The donation will go towards providing school pocket money for primary, secondary, and post-secondary students from low-income families. About 10,000 students receive such help yearly.The management at UOB Kay Hian added that they were moved upon by the story of 17-year-old student Loh Miao Xin, whose single mother had lost her job at a hawker stall due to poor business during the circuit breaker period.Ms Loh had previously worked as a part-time waitress to help her mother with the family\\'s finances, but even that income stream dried up when events were curtailed.The management felt that \"youths like Ms Loh should be given the chance to continue their education so that one day they could break free from the life of poverty they are living now\".Mr Warren Fernandez, chairman of STSPMF and editor-in-chief of Singapore Press Holdings\\' English/Malay/Tamil Media Group, said: \"As the pandemic continues, the needs of families who are badly hit by the crisis mounts. So it is heartening that many in the community are stepping forward to offer more help.\"This generous donation from UOB Kay Hian will make a big difference and we are most grateful for it. It will enable us to step up our efforts for the many young children and their families who turn to the ST Pocket Money Fund for assistance.\"STSPMF has given out around $6.5 million to agencies and schools for disbursement to around 10,000 beneficiaries who have been affected by the Covid-19 pandemic.For instance, all beneficiaries were recently given an additional $50 each on top of their usual school pocket money.A total of at least $9 million worth of donations is expected to be disbursed this year.In May, the fund pledged up to $2 million towards meal subsidies for students from low-income families during their school holidays, with the Ministry of Education dollar-matching the amount distributed.Read the latest on the Covid-19 situation in Singapore and beyond on our dedicated site here.Get The Straits Times app and receive breaking news alerts and more. Download from the Apple App Store or Google Play Store now.SPH Digital News / Copyright © 2020 Singapore Press Holdings Ltd. Co. Regn. No. 198402868E. All rights reserved We have been experiencing some problems with subscriber log-ins and apologise for the inconvenience caused. Until we resolve the issues, subscribers need not log in to access ST Digital articles. But a log-in is still required for our PDFs.'"
            ]
          },
          "metadata": {
            "tags": []
          },
          "execution_count": 7
        }
      ]
    },
    {
      "cell_type": "code",
      "metadata": {
        "id": "PSeqB9fbpyV8",
        "colab_type": "code",
        "outputId": "082e9056-ed12-41dd-f257-5657cc19a07f",
        "colab": {
          "base_uri": "https://localhost:8080/",
          "height": 34
        }
      },
      "source": [
        "sentimentScraped[-1]"
      ],
      "execution_count": 8,
      "outputs": [
        {
          "output_type": "execute_result",
          "data": {
            "text/plain": [
              "0.9744"
            ]
          },
          "metadata": {
            "tags": []
          },
          "execution_count": 8
        }
      ]
    },
    {
      "cell_type": "code",
      "metadata": {
        "id": "znAlFlUap1Zu",
        "colab_type": "code",
        "colab": {}
      },
      "source": [
        ""
      ],
      "execution_count": 0,
      "outputs": []
    }
  ]
}