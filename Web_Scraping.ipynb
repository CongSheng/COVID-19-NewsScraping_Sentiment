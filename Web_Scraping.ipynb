{
  "nbformat": 4,
  "nbformat_minor": 0,
  "metadata": {
    "colab": {
      "name": "Web Scraping.ipynb",
      "provenance": []
    },
    "kernelspec": {
      "name": "python3",
      "display_name": "Python 3"
    }
  },
  "cells": [
    {
      "cell_type": "markdown",
      "metadata": {
        "id": "75NvAtfDo-VM",
        "colab_type": "text"
      },
      "source": [
        "# Importing nltk library and initialising SentimentIntensityAnalyzer"
      ]
    },
    {
      "cell_type": "code",
      "metadata": {
        "id": "enLB_ICTVS8K",
        "colab_type": "code",
        "colab": {}
      },
      "source": [
        "# Importing Libraries\n",
        "# Natural Language Toolkit - nltk\n",
        "import nltk\n",
        "from nltk.sentiment.vader import SentimentIntensityAnalyzer\n",
        "# Importing libraries to open urls and scrape for data\n",
        "from urllib.request import urlopen\n",
        "from bs4 import BeautifulSoup\n",
        "from datetime import datetime, timedelta\n",
        "import time\n",
        "import pprint"
      ],
      "execution_count": 0,
      "outputs": []
    },
    {
      "cell_type": "code",
      "metadata": {
        "id": "FdziimctelBj",
        "colab_type": "code",
        "colab": {
          "base_uri": "https://localhost:8080/",
          "height": 34
        },
        "outputId": "052eac51-78e4-425c-e88f-2fdf65102538"
      },
      "source": [
        "nltk.download('vader_lexicon')\n",
        "sentimentA = SentimentIntensityAnalyzer()\n"
      ],
      "execution_count": 3,
      "outputs": [
        {
          "output_type": "stream",
          "text": [
            "[nltk_data] Downloading package vader_lexicon to /root/nltk_data...\n"
          ],
          "name": "stdout"
        }
      ]
    },
    {
      "cell_type": "markdown",
      "metadata": {
        "id": "0Crp8vGlpVdO",
        "colab_type": "text"
      },
      "source": [
        "## Input page for scraping and extract urls based on developer mode on Web"
      ]
    },
    {
      "cell_type": "code",
      "metadata": {
        "id": "BYdmtX6UfRGL",
        "colab_type": "code",
        "colab": {}
      },
      "source": [
        "page = urlopen('https://www.straitstimes.com/coronavirus').read()\n",
        "soup = BeautifulSoup(page, features=\"html.parser\")\n",
        "posts = soup.findAll(\"div\", {\"class\": \"media-body\"})"
      ],
      "execution_count": 0,
      "outputs": []
    },
    {
      "cell_type": "code",
      "metadata": {
        "id": "yDw5HmY-hOTn",
        "colab_type": "code",
        "colab": {}
      },
      "source": [
        "# posts"
      ],
      "execution_count": 0,
      "outputs": []
    },
    {
      "cell_type": "markdown",
      "metadata": {
        "id": "a6vGo9FHpiug",
        "colab_type": "text"
      },
      "source": [
        "# Scraping + Sentiment Extraction"
      ]
    },
    {
      "cell_type": "code",
      "metadata": {
        "id": "sgiqvRdhha7F",
        "colab_type": "code",
        "colab": {
          "base_uri": "https://localhost:8080/",
          "height": 877
        },
        "outputId": "78600528-a53b-4a23-dc43-cd20297c3917"
      },
      "source": [
        "sentimentScraped = []\n",
        "\n",
        "for post in posts:\n",
        "  url = post.a['href']\n",
        "  if \"javascript\" in url: # Removing interactive and videos\n",
        "    continue\n",
        "  url = 'https://www.straitstimes.com' + url\n",
        "  print(url)\n",
        "  try:\n",
        "      pageLink = urlopen(url).read()\n",
        "  except:\n",
        "      url = url[:-2]\n",
        "      pageLink = urlopen(url).read()\n",
        "  soupLink = BeautifulSoup(pageLink)\n",
        "  sentences = soupLink.findAll(\"p\")\n",
        "  passage = \"\"\n",
        "  for sentence in sentences:\n",
        "      passage += sentence.text\n",
        "  sentiment = sentimentA.polarity_scores(passage)['compound']\n",
        "  sentimentScraped.append(sentiment)\n",
        "\n",
        "print(sentimentScraped)"
      ],
      "execution_count": 28,
      "outputs": [
        {
          "output_type": "stream",
          "text": [
            "https://www.straitstimes.com/world/united-states/what-are-antibody-therapies-and-who-is-developing-them-for-covid-19\n",
            "https://www.straitstimes.com/world/united-states/coronavirus-when-511-epidemiologists-expect-to-fly-hug-and-do-18-other-everyday\n",
            "https://www.straitstimes.com/singapore/every-singaporean-who-needs-a-covid-19-vaccine-will-get-one-when-it-becomes-available\n",
            "https://www.straitstimes.com/lifestyle/stayhome-guide-for-wednesday-explore-st-podcasts-make-tasty-oxtail-stew-and-more\n",
            "https://www.straitstimes.com/singapore/health/451-new-covid-19-cases-in-singapore-including-7-in-community\n",
            "https://www.straitstimes.com/singapore/remdesivir-approved-for-covid-19-treatment-in-singapore\n",
            "https://www.straitstimes.com/singapore/singapore-to-start-clinical-trials-for-potential-covid-19-treatment\n",
            "https://www.straitstimes.com/world/united-states/the-who-stumbles-and-some-scientists-see-a-pattern\n",
            "https://www.straitstimes.com/world/europe/the-world-reopens-despite-skyrocketing-coronavirus-cases\n",
            "https://www.straitstimes.com/asia/se-asia/thailand-to-consider-reopening-more-businesses-as-virus-appears-contained\n",
            "https://www.straitstimes.com/asia/se-asia/indonesia-resumes-domestic-air-travel-coronavirus-cases-jump\n",
            "https://www.straitstimes.com/world/europe/germany-to-extend-coronavirus-related-travel-ban-for-non-european-countries\n",
            "https://www.straitstimes.com/world/europe/britain-says-retailers-can-reopen-on-june-15-with-coronavirus-guidelines-in-place\n",
            "https://www.straitstimes.com/asia/asias-search-for-a-covid-19-vaccine\n",
            "https://www.straitstimes.com/singapore/health/the-race-for-covid-19-vaccine-should-not-be-seen-as-competition-british-pharma\n",
            "https://www.straitstimes.com/singapore/every-singaporean-who-needs-a-covid-19-vaccine-will-get-one-when-it-becomes-available\n",
            "https://www.straitstimes.com/singapore/health/singapore-building-its-vaccine-manufacturing-capacity-in-covid-19-fight-says-pm-lee\n",
            "https://www.straitstimes.com/asia/se-asia/malaysian-police-brace-for-surge-in-traffic-as-malaysia-lifts-ban-on-interstate-travel\n",
            "https://www.straitstimes.com/asia/se-asia/indonesias-unicorns-start-ups-join-forces-to-produce-coronavirus-test-kits-locally\n",
            "https://www.straitstimes.com/asia/se-asia/coronavirus-thais-travelling-domestically-in-droves-amid-lockdown-easing-prompting\n",
            "https://www.straitstimes.com/asia/south-asia/south-asia-coronavirus-cases-rise-at-fastest-rate-across-the-globe\n",
            "https://www.straitstimes.com/singapore/health/swab-test-generally-painless-but-there-might-be-some-discomfort\n",
            "https://www.straitstimes.com/singapore/askst-how-new-token-and-app-will-address-privacy-concerns\n",
            "https://www.straitstimes.com/askst/collection-of-ics-passports-by-appointment-only\n",
            "https://www.straitstimes.com/singapore/free-one-time-replacement-if-mask-becomes-discoloured\n",
            "https://www.straitstimes.com/singapore/singapore-ends-covid-19-circuit-breaker-how-does-it-affect-you-from-june-2\n",
            "https://www.straitstimes.com/business/companies-markets/askst-what-you-need-to-know-about-payouts-under-the-jobs-support-scheme\n",
            "https://www.straitstimes.com/lifestyle/covid-19-and-hypertension-what-are-the-links-and-risks\n",
            "https://www.straitstimes.com/singapore/only-members-from-same-household-can-pray-together-in-place-of-worship\n",
            "https://www.straitstimes.com/singapore/health/at-102-she-fought-and-beat-covid-19\n",
            "https://www.straitstimes.com/singapore/my-body-was-a-wreck-says-covid-19-patient\n",
            "https://www.straitstimes.com/singapore/parents-of-newborn-both-had-covid-19\n",
            "https://www.straitstimes.com/singapore/a-dinner-where-death-lurked\n",
            "https://www.straitstimes.com\n",
            "https://www.straitstimes.com/singapore/fresh-pastures-in-the-covid-19-economy\n",
            "https://www.straitstimes.com/singapore/families-scraping-by-in-tougher-spot-now\n",
            "https://www.straitstimes.com/singapore/health/pulling-out-all-the-stops-to-save-lives-and-the-economy\n",
            "https://www.straitstimes.com/asia/caught-in-the-middle-of-a-new-us-china-cold-war\n",
            "https://www.straitstimes.com/singapore/thescience-medical-tech-investmentspay-off-in-covid-19-war\n",
            "https://www.straitstimes.com/singapore/manpower/over-19000-traineeships-in-2800-companies-available-for-graduates\n",
            "https://www.straitstimes.com/world/europe/boris-johnson-defends-uks-astonishing-coronavirus-effort\n",
            "https://www.straitstimes.com/asia/south-asia/coronavirus-hospitals-overwhelmed-in-delhi-and-other-major-indian-cities\n",
            "https://www.straitstimes.com/sport/football/football-fifa-to-choose-from-three-bids-for-2023-womens-world-cup-at-meeting-in-two\n",
            "https://www.straitstimes.com/sport/tennis/tennis-coronavirus-shutdown-may-help-serena-williams-grand-slam-quest-says-coach\n",
            "https://www.straitstimes.com/business/banking/ubs-commits-to-creating-300-jobs-under-new-18-month-training-scheme-to-build\n",
            "https://www.straitstimes.com/singapore/health/the-race-for-covid-19-vaccine-should-not-be-seen-as-competition-british-pharma\n",
            "https://www.straitstimes.com/singapore/uob-kay-hian-donates-600000-to-st-school-pocket-money-fund\n",
            "https://www.straitstimes.com/singapore/courts-crime/coronavirus-woman-who-provided-sexual-services-among-5-people-sentenced-over\n",
            "https://www.straitstimes.com/singapore/courts-crime/three-people-charged-for-committing-crimes-during-circuit-breaker-another-for\n",
            "[0.9498, -0.9873, 0.9774, 0.9726, 0.4019, 0.9881, 0.9925, 0.6972, -0.9897, -0.0202, 0.9377, -0.743, 0.9468, -0.9299, 0.9894, 0.9774, 0.9846, 0.9884, -0.5859, 0.9331, -0.8223, 0.9943, 0.9778, 0.9253, 0.9702, 0.9949, 0.9818, -0.9776, 0.9834, -0.9622, 0.9845, -0.9931, 0.9938, -0.296, 0.997, -0.971, 0.9959, 0.9602, 0.9984, 0.9803, -0.9706, -0.7475, -0.33, 0.9972, 0.9923, 0.9894, 0.9744, -0.9976, -0.9922]\n"
          ],
          "name": "stdout"
        }
      ]
    },
    {
      "cell_type": "markdown",
      "metadata": {
        "id": "DOFHds_xoa9H",
        "colab_type": "text"
      },
      "source": [
        "## Checking the url and passage"
      ]
    },
    {
      "cell_type": "code",
      "metadata": {
        "id": "M6eC8cLmncK3",
        "colab_type": "code",
        "colab": {
          "base_uri": "https://localhost:8080/",
          "height": 34
        },
        "outputId": "578e8da8-7b26-4ae9-f552-5f13d0ea2b97"
      },
      "source": [
        "url"
      ],
      "execution_count": 32,
      "outputs": [
        {
          "output_type": "execute_result",
          "data": {
            "text/plain": [
              "'https://www.straitstimes.com/singapore/courts-crime/three-people-charged-for-committing-crimes-during-circuit-breaker-another-for'"
            ]
          },
          "metadata": {
            "tags": []
          },
          "execution_count": 32
        }
      ]
    },
    {
      "cell_type": "code",
      "metadata": {
        "id": "Vy5_NETpntx1",
        "colab_type": "code",
        "colab": {
          "base_uri": "https://localhost:8080/",
          "height": 54
        },
        "outputId": "d70e64e8-bd45-48fe-a4a5-858d10ee4916"
      },
      "source": [
        "passage"
      ],
      "execution_count": 35,
      "outputs": [
        {
          "output_type": "execute_result",
          "data": {
            "text/plain": [
              "'SINGAPORE - Three of the four people charged with Covid-19-related offences on Wednesday (June 10) allegedly left their homes and committed crimes during the circuit breaker period.Tan Hock See, 42, faces six other charges related to theft and fraudulent possession of ez-link and cash cards in addition to his two purported circuit breaker offences.Andrew Lee Yong Teck, 31, has been additionally charged with two counts of loan-shark harassment, while Rudra Cavill Pubalasingam, 38, is further accused of housebreaking and breaching safe distancing measures by meeting another person.Rameswari Devi Jairaj Singh, 34, faces one charge - of flouting a stay-home order.Tan is said to have left his home in the evening of May 6 and stolen a cash card from a motorcycle at a open space carpark at Block 12 Eunos Crescent.He is accused of committing a similar act at a multi-storey carpark at Block 52A Circuit Road the next day.Tan is also charged with offences related to stealing from vehicles in March and fraudulently possessing 11 ez-link cards and two cash cards.Lee flouted circuit breaker measures by leaving his house in\\xa0Jurong East Street 24 in the afternoon of May 13, court documents state.He is accused of then going to two flats - in Holland Avenue and Teck Whye Lane - to harass debtors on behalf of a loan shark named \"Kelvin\".Court documents also state that Lee locked the gate of each flat using a bicycle lock and pasted a note relating to the loan at the Holland Avenue unit.Rudra is accused of leaving his home unlawfully at about 3.15pm on April 27 and breaking into a Taoist temple in Geylang Road and stealing nine statues.He is also charged with breaching circuit breaker measures a day earlier by meeting a person known only as \"Elaine\" for a \"casual chatting session\" in Geylang Road.Rameswari allegedly flouted a stay-home notice that required her to remain at the Ibis Singapore Novena hotel in Irrawaddy Road from April 30 to May 14.She is said to have travelled to five locations across Singapore, including a block in Lengkok Bahru in Redhill, between May 4 and May 12.Tan, Lee and Rudra could be jailed for up to six months and fined up to $10,000 if convicted of breaching circuit breaker measures for the first time.Repeat offenders face a jail term of up to 12 months or a fine of up to $20,000, or both.Rameswari could be jailed for up to six months and fined up to $10,000 for breaching a stay-home notice.Read the latest on the Covid-19 situation in Singapore and beyond on our dedicated site here.Get The Straits Times app and receive breaking news alerts and more. Download from the Apple App Store or Google Play Store now.SPH Digital News / Copyright © 2020 Singapore Press Holdings Ltd. Co. Regn. No. 198402868E. All rights reserved We have been experiencing some problems with subscriber log-ins and apologise for the inconvenience caused. Until we resolve the issues, subscribers need not log in to access ST Digital articles. But a log-in is still required for our PDFs.'"
            ]
          },
          "metadata": {
            "tags": []
          },
          "execution_count": 35
        }
      ]
    },
    {
      "cell_type": "code",
      "metadata": {
        "id": "PSeqB9fbpyV8",
        "colab_type": "code",
        "colab": {
          "base_uri": "https://localhost:8080/",
          "height": 34
        },
        "outputId": "ab3c3f51-f451-4034-c1db-bd01af6a6cb5"
      },
      "source": [
        "sentimentScraped[-1]"
      ],
      "execution_count": 37,
      "outputs": [
        {
          "output_type": "execute_result",
          "data": {
            "text/plain": [
              "-0.9922"
            ]
          },
          "metadata": {
            "tags": []
          },
          "execution_count": 37
        }
      ]
    },
    {
      "cell_type": "code",
      "metadata": {
        "id": "znAlFlUap1Zu",
        "colab_type": "code",
        "colab": {}
      },
      "source": [
        ""
      ],
      "execution_count": 0,
      "outputs": []
    }
  ]
}